{
 "cells": [
  {
   "cell_type": "markdown",
   "id": "dd094af7",
   "metadata": {},
   "source": [
    "# <span style=\"font-width:bold; font-size: 3rem; color:#1EB182;\"><img src=\"../../images/icon102.png\" width=\"38px\"></img> **Hopsworks Feature Store** </span><span style=\"font-width:bold; font-size: 3rem; color:#333;\">- Part 02: Feature Pipeline</span>\n",
    "\n",
    "[![Open In Colab](https://colab.research.google.com/assets/colab-badge.svg)](https://colab.research.google.com/github/logicalclocks/hopsworks-tutorials/blob/master/advanced_tutorials/air_quality/2_feature_pipeline.ipynb)\n",
    "\n",
    "\n",
    "## 🗒️ This notebook is divided into the following sections:\n",
    "1. Parse Data\n",
    "2. Feature Group Insertion"
   ]
  },
  {
   "cell_type": "markdown",
   "id": "a7dcc328",
   "metadata": {},
   "source": [
    "### <span style='color:#ff5f27'> 📝 Imports"
   ]
  },
  {
   "cell_type": "code",
   "execution_count": 1,
   "id": "364e961e",
   "metadata": {},
   "outputs": [],
   "source": [
    "import datetime\n",
    "import time\n",
    "import requests\n",
    "import pandas as pd\n",
    "import json\n",
    "\n",
    "from functions import *\n",
    "\n",
    "import warnings\n",
    "warnings.filterwarnings(\"ignore\")"
   ]
  },
  {
   "cell_type": "code",
   "execution_count": 2,
   "id": "50d04cc5-6788-4a4c-9f87-c2e00b5fce49",
   "metadata": {
    "tags": []
   },
   "outputs": [],
   "source": [
    "with open('target_cities.json') as json_file:\n",
    "    target_cities = json.load(json_file)"
   ]
  },
  {
   "cell_type": "code",
   "execution_count": 3,
   "id": "b0d2261f-8907-44f4-9f1a-bd9ec5e1556f",
   "metadata": {
    "tags": []
   },
   "outputs": [
    {
     "data": {
      "text/plain": [
       "(datetime.date(2023, 4, 24), '2023-04-24')"
      ]
     },
     "execution_count": 3,
     "metadata": {},
     "output_type": "execute_result"
    }
   ],
   "source": [
    "today = datetime.date.today()\n",
    "start_day = today - datetime.timedelta(days=1)\n",
    "\n",
    "start_day, str(start_day)"
   ]
  },
  {
   "cell_type": "code",
   "execution_count": 4,
   "id": "72eadd78-124d-423c-ad37-2d7ba0ae5f28",
   "metadata": {
    "tags": []
   },
   "outputs": [
    {
     "data": {
      "text/plain": [
       "(datetime.date(2023, 4, 25), '2023-04-25')"
      ]
     },
     "execution_count": 4,
     "metadata": {},
     "output_type": "execute_result"
    }
   ],
   "source": [
    "today, str(today)"
   ]
  },
  {
   "cell_type": "markdown",
   "id": "c7f61053-a8c0-48a7-afa4-0e8733d2a54a",
   "metadata": {},
   "source": [
    "---"
   ]
  },
  {
   "cell_type": "markdown",
   "id": "459ee37e-7e74-4051-97f6-2e03f9cac9d8",
   "metadata": {},
   "source": [
    "## <span style='color:#ff5f27'> 🌫 Filling gaps in Air Quality data (PM2.5)</span>"
   ]
  },
  {
   "cell_type": "markdown",
   "id": "ecfb9f24-86ad-4614-a94b-32f17f10c1cc",
   "metadata": {},
   "source": [
    "### First time we will determine the 'last update date' using our backfill data\n",
    "#### Next time we will use `feature view` method from Hopsworks Feature Store"
   ]
  },
  {
   "cell_type": "markdown",
   "id": "77c4ee8d-7f7e-4bd0-a97b-c3ac0d7db50f",
   "metadata": {},
   "source": [
    "### <span style='color:#ff5f27'>  🧙🏼‍♂️ Parsing PM2.5 data"
   ]
  },
  {
   "cell_type": "code",
   "execution_count": null,
   "id": "112a7974-37cb-4195-bc71-328af428c491",
   "metadata": {
    "scrolled": true,
    "tags": []
   },
   "outputs": [
    {
     "name": "stdout",
     "output_type": "stream",
     "text": [
      "Processed PM2_5 for Amsterdam since 2023-04-24 till 2023-04-25.\n",
      "Took 0.82 sec.\n",
      "\n",
      "Processed PM2_5 for Athina since 2023-04-24 till 2023-04-25.\n",
      "Took 0.61 sec.\n",
      "\n",
      "Processed PM2_5 for Berlin since 2023-04-24 till 2023-04-25.\n",
      "Took 0.48 sec.\n",
      "\n",
      "Processed PM2_5 for Gdansk since 2023-04-24 till 2023-04-25.\n",
      "Took 0.54 sec.\n",
      "\n",
      "Processed PM2_5 for Kraków since 2023-04-24 till 2023-04-25.\n",
      "Took 0.61 sec.\n",
      "\n",
      "Processed PM2_5 for London since 2023-04-24 till 2023-04-25.\n",
      "Took 0.45 sec.\n",
      "\n",
      "Processed PM2_5 for Madrid since 2023-04-24 till 2023-04-25.\n",
      "Took 0.54 sec.\n",
      "\n",
      "Processed PM2_5 for Marseille since 2023-04-24 till 2023-04-25.\n",
      "Took 0.55 sec.\n",
      "\n",
      "Processed PM2_5 for Milano since 2023-04-24 till 2023-04-25.\n",
      "Took 0.58 sec.\n",
      "\n",
      "Processed PM2_5 for München since 2023-04-24 till 2023-04-25.\n",
      "Took 0.61 sec.\n",
      "\n",
      "Processed PM2_5 for Napoli since 2023-04-24 till 2023-04-25.\n",
      "Took 0.65 sec.\n",
      "\n",
      "Processed PM2_5 for Paris since 2023-04-24 till 2023-04-25.\n",
      "Took 0.62 sec.\n",
      "\n",
      "Processed PM2_5 for Sevilla since 2023-04-24 till 2023-04-25.\n",
      "Took 0.61 sec.\n",
      "\n",
      "Processed PM2_5 for Stockholm since 2023-04-24 till 2023-04-25.\n",
      "Took 1.04 sec.\n",
      "\n",
      "Processed PM2_5 for Tallinn since 2023-04-24 till 2023-04-25.\n",
      "Took 1.95 sec.\n",
      "\n",
      "Processed PM2_5 for Varna since 2023-04-24 till 2023-04-25.\n",
      "Took 0.6 sec.\n",
      "\n",
      "Processed PM2_5 for Wien since 2023-04-24 till 2023-04-25.\n",
      "Took 0.51 sec.\n",
      "\n",
      "Processed PM2_5 for Albuquerque since 2023-04-24 till 2023-04-25.\n",
      "Took 0.52 sec.\n",
      "\n",
      "Processed PM2_5 for Atlanta since 2023-04-24 till 2023-04-25.\n",
      "Took 0.61 sec.\n",
      "\n",
      "Processed PM2_5 for Chicago since 2023-04-24 till 2023-04-25.\n",
      "Took 0.62 sec.\n",
      "\n",
      "Processed PM2_5 for Columbus since 2023-04-24 till 2023-04-25.\n",
      "Took 0.61 sec.\n",
      "\n",
      "Processed PM2_5 for Dallas since 2023-04-24 till 2023-04-25.\n",
      "Took 0.61 sec.\n",
      "\n",
      "Processed PM2_5 for Denver since 2023-04-24 till 2023-04-25.\n",
      "Took 0.61 sec.\n",
      "\n",
      "Processed PM2_5 for Houston since 2023-04-24 till 2023-04-25.\n",
      "Took 0.61 sec.\n",
      "\n",
      "Processed PM2_5 for Los Angeles since 2023-04-24 till 2023-04-25.\n",
      "Took 0.57 sec.\n",
      "\n",
      "Processed PM2_5 for New York since 2023-04-24 till 2023-04-25.\n",
      "Took 0.66 sec.\n",
      "\n",
      "Processed PM2_5 for Phoenix-Mesa since 2023-04-24 till 2023-04-25.\n",
      "Took 0.61 sec.\n",
      "\n",
      "Processed PM2_5 for Salt Lake City since 2023-04-24 till 2023-04-25.\n",
      "Took 0.72 sec.\n",
      "\n",
      "Processed PM2_5 for San Francisco since 2023-04-24 till 2023-04-25.\n",
      "Took 0.61 sec.\n",
      "\n",
      "Processed PM2_5 for Tampa since 2023-04-24 till 2023-04-25.\n",
      "Took 0.57 sec.\n",
      "\n",
      "Processed PM2_5 for Bellevue-SE 12th St since 2023-04-24 till 2023-04-25.\n",
      "Took 0.68 sec.\n",
      "\n",
      "Processed PM2_5 for DARRINGTON - FIR ST (Darrington High School) since 2023-04-24 till 2023-04-25.\n",
      "Took 0.84 sec.\n",
      "\n",
      "Processed PM2_5 for KENT - JAMES & CENTRAL since 2023-04-24 till 2023-04-25.\n",
      "Took 0.6 sec.\n",
      "\n",
      "Processed PM2_5 for LAKE FOREST PARK TOWNE CENTER since 2023-04-24 till 2023-04-25.\n",
      "Took 0.8 sec.\n",
      "\n",
      "Processed PM2_5 for MARYSVILLE - 7TH AVE (Marysville Junior High) since 2023-04-24 till 2023-04-25.\n",
      "Took 0.63 sec.\n",
      "\n",
      "Processed PM2_5 for NORTH BEND - NORTH BEND WAY since 2023-04-24 till 2023-04-25.\n",
      "Took 0.64 sec.\n",
      "\n",
      "Processed PM2_5 for SEATTLE - BEACON HILL since 2023-04-24 till 2023-04-25.\n",
      "Took 0.7 sec.\n",
      "\n",
      "Processed PM2_5 for SEATTLE - DUWAMISH since 2023-04-24 till 2023-04-25.\n",
      "Took 0.58 sec.\n",
      "\n",
      "Processed PM2_5 for SEATTLE - SOUTH PARK #2 since 2023-04-24 till 2023-04-25.\n",
      "Took 0.61 sec.\n",
      "\n",
      "Processed PM2_5 for Seattle-10th & Weller since 2023-04-24 till 2023-04-25.\n",
      "Took 0.61 sec.\n",
      "\n",
      "Processed PM2_5 for TACOMA - ALEXANDER AVE since 2023-04-24 till 2023-04-25.\n",
      "Took 0.72 sec.\n",
      "\n",
      "Processed PM2_5 for TACOMA - L STREET since 2023-04-24 till 2023-04-25.\n",
      "Took 0.61 sec.\n",
      "\n"
     ]
    }
   ],
   "source": [
    "start_of_cell = time.time()\n",
    "\n",
    "df_aq_raw = pd.DataFrame()\n",
    "\n",
    "for continent in target_cities:\n",
    "    for city_name, coords in target_cities[continent].items():\n",
    "        df_ = get_aqi_data_from_open_meteo(city_name=city_name,\n",
    "                                           coordinates=coords,\n",
    "                                           start_date=str(start_day),\n",
    "                                           end_date=str(today))\n",
    "        df_aq_raw = pd.concat([df_aq_raw, df_]).reset_index(drop=True)\n",
    "    \n",
    "end_of_cell = time.time()\n",
    "print(\"-\" * 64)\n",
    "print(f\"Parsed new PM2.5 data for ALL locations up to {str(today)}.\")\n",
    "print(f\"Took {round(end_of_cell - start_of_cell, 2)} sec.\\n\")"
   ]
  },
  {
   "cell_type": "code",
   "execution_count": null,
   "id": "2ec50ff1",
   "metadata": {},
   "outputs": [],
   "source": [
    "df_aq_raw"
   ]
  },
  {
   "cell_type": "code",
   "execution_count": null,
   "id": "e830f1b9-f596-45e0-9285-e996d7df9d05",
   "metadata": {
    "tags": []
   },
   "outputs": [],
   "source": [
    "df_aq_update = df_aq_raw\n",
    "df_aq_update"
   ]
  },
  {
   "cell_type": "markdown",
   "id": "250d9daf-83fa-49f1-bcd8-4efaeb90b99c",
   "metadata": {
    "tags": []
   },
   "source": [
    "### <span style=\"color:#ff5f27;\">🛠 Feature Engineering PM2.5</span>"
   ]
  },
  {
   "cell_type": "code",
   "execution_count": null,
   "id": "140b468a-e0c2-44a1-8e44-4cf393407eca",
   "metadata": {
    "tags": []
   },
   "outputs": [],
   "source": [
    "df_aq_update['date'] = pd.to_datetime(df_aq_update['date'])"
   ]
  },
  {
   "cell_type": "code",
   "execution_count": null,
   "id": "acc181a9-6183-45ec-aed2-8ee684e13b39",
   "metadata": {
    "tags": []
   },
   "outputs": [],
   "source": [
    "# df_aq_update = feature_engineer_aq(df_aq_update)\n",
    "df_aq_update = df_aq_update.dropna()"
   ]
  },
  {
   "cell_type": "code",
   "execution_count": null,
   "id": "131d1e58-7d12-4cd8-a24e-ffcc8eaa7c20",
   "metadata": {
    "tags": []
   },
   "outputs": [],
   "source": [
    "df_aq_update.isna().sum().sum()"
   ]
  },
  {
   "cell_type": "code",
   "execution_count": null,
   "id": "94f67c89-6b39-4748-b4be-6ed3c9d57f96",
   "metadata": {
    "tags": []
   },
   "outputs": [],
   "source": [
    "df_aq_update.shape"
   ]
  },
  {
   "cell_type": "code",
   "execution_count": null,
   "id": "ed9bc7f1-d62e-4b1f-97af-6ecd30fe4b67",
   "metadata": {
    "tags": []
   },
   "outputs": [],
   "source": [
    "df_aq_update.columns"
   ]
  },
  {
   "cell_type": "markdown",
   "id": "d74f5622-6f57-47b9-ac0b-dfb6617847b2",
   "metadata": {},
   "source": [
    "---"
   ]
  },
  {
   "cell_type": "markdown",
   "id": "95a34c64-5b94-4c4f-b03d-14e12a106f25",
   "metadata": {},
   "source": [
    "## <span style='color:#ff5f27'> 🌦 Filling gaps in Weather data</span>"
   ]
  },
  {
   "cell_type": "code",
   "execution_count": null,
   "id": "46009853-160c-467e-abb0-3145d27c57dc",
   "metadata": {
    "tags": []
   },
   "outputs": [],
   "source": [
    "today = datetime.date.today()\n",
    "end_day = today + datetime.timedelta(days=7)\n",
    "\n",
    "end_day, str(end_day)"
   ]
  },
  {
   "cell_type": "markdown",
   "id": "1fd15812-a3a9-488c-879e-181c7b815357",
   "metadata": {
    "tags": []
   },
   "source": [
    "### <span style='color:#ff5f27'>  🧙🏼‍♂️ Parsing Weather data"
   ]
  },
  {
   "cell_type": "code",
   "execution_count": null,
   "id": "ef027d28-3443-4c7c-9e85-783625301a14",
   "metadata": {
    "scrolled": true,
    "tags": []
   },
   "outputs": [],
   "source": [
    "start_of_cell = time.time()\n",
    "\n",
    "df_weather_update = pd.DataFrame()\n",
    "\n",
    "\n",
    "\n",
    "for continent in target_cities:\n",
    "    for city_name, coords in target_cities[continent].items():\n",
    "        df_ = get_weather_data_from_open_meteo(city_name=city_name,\n",
    "                                               coordinates=coords,\n",
    "                                               start_date=str(today),\n",
    "                                               end_date=str(end_day),\n",
    "                                               forecast=True)\n",
    "        df_weather_update = pd.concat([df_weather_update, df_]).reset_index(drop=True)\n",
    "    \n",
    "end_of_cell = time.time()\n",
    "print(\"-\" * 64)\n",
    "print(f\"Parsed new weather data for ALL cities up to {str(today)}.\")\n",
    "print(f\"Took {round(end_of_cell - start_of_cell, 2)} sec.\\n\")"
   ]
  },
  {
   "cell_type": "code",
   "execution_count": null,
   "id": "df20173e",
   "metadata": {},
   "outputs": [],
   "source": [
    "df_weather_update"
   ]
  },
  {
   "cell_type": "code",
   "execution_count": null,
   "id": "a7bff400-a2fb-48a3-a07b-5bd2a0469cd7",
   "metadata": {
    "tags": []
   },
   "outputs": [],
   "source": [
    "df_aq_update.date = pd.to_datetime(df_aq_update.date)\n",
    "df_weather_update.date = pd.to_datetime(df_weather_update.date)\n",
    "\n",
    "df_aq_update[\"unix_time\"] = df_aq_update[\"date\"].apply(convert_date_to_unix)\n",
    "df_weather_update[\"unix_time\"] = df_weather_update[\"date\"].apply(convert_date_to_unix)"
   ]
  },
  {
   "cell_type": "code",
   "execution_count": null,
   "id": "11752b30-2f40-4668-9813-2a90199c62b8",
   "metadata": {
    "tags": []
   },
   "outputs": [],
   "source": [
    "df_aq_update.date = df_aq_update.date.astype(str)\n",
    "df_weather_update.date = df_weather_update.date.astype(str)"
   ]
  },
  {
   "cell_type": "markdown",
   "id": "792dd383",
   "metadata": {},
   "source": [
    "---"
   ]
  },
  {
   "cell_type": "markdown",
   "id": "5aef353d",
   "metadata": {
    "tags": []
   },
   "source": [
    "## <span style=\"color:#ff5f27;\">⬆️ Uploading new data to the Feature Store</span>"
   ]
  },
  {
   "cell_type": "markdown",
   "id": "b59f3599-f336-41ff-a500-5dd2951ce136",
   "metadata": {},
   "source": [
    "### <span style=\"color:#ff5f27;\"> 🔮 Connecting to Hopsworks Feature Store </span>"
   ]
  },
  {
   "cell_type": "code",
   "execution_count": null,
   "id": "4530f803",
   "metadata": {},
   "outputs": [],
   "source": [
    "import hopsworks\n",
    "\n",
    "\n",
    "project = hopsworks.login()\n",
    "fs = project.get_feature_store() \n",
    "\n",
    "air_quality_fg = fs.get_or_create_feature_group(\n",
    "    name = 'air_quality',\n",
    "    version = 1\n",
    ")\n",
    "weather_fg = fs.get_or_create_feature_group(\n",
    "    name = 'weather',\n",
    "    version = 1\n",
    ")"
   ]
  },
  {
   "cell_type": "code",
   "execution_count": null,
   "id": "f81bb922",
   "metadata": {},
   "outputs": [],
   "source": [
    "air_quality_fg.insert(df_aq_update, write_options={\"wait_for_job\": False})"
   ]
  },
  {
   "cell_type": "code",
   "execution_count": null,
   "id": "be0c498e",
   "metadata": {},
   "outputs": [],
   "source": [
    "weather_fg.insert(df_weather_update, write_options={\"wait_for_job\": False})"
   ]
  }
 ],
 "metadata": {
  "kernelspec": {
   "display_name": "Python 3 (ipykernel)",
   "language": "python",
   "name": "python3"
  },
  "language_info": {
   "codemirror_mode": {
    "name": "ipython",
    "version": 3
   },
   "file_extension": ".py",
   "mimetype": "text/x-python",
   "name": "python",
   "nbconvert_exporter": "python",
   "pygments_lexer": "ipython3",
   "version": "3.8.13"
  },
  "vscode": {
   "interpreter": {
    "hash": "190ea7959a836f4799545ea0f3718ade3abee093b15861ffdc25233d6ab7050e"
   }
  }
 },
 "nbformat": 4,
 "nbformat_minor": 5
}
